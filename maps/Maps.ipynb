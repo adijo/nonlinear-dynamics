{
 "cells": [
  {
   "cell_type": "markdown",
   "metadata": {},
   "source": [
    "# Non Linear Dynamics \n",
    "## Chapter 1 \n",
    "## Maps\n",
    "---"
   ]
  },
  {
   "cell_type": "markdown",
   "metadata": {},
   "source": [
    "## Logistic Map"
   ]
  },
  {
   "cell_type": "code",
   "execution_count": 1,
   "metadata": {},
   "outputs": [],
   "source": [
    "from typing import List, Callable\n",
    "\n",
    "def logistic_wrapper(r: float) -> float:\n",
    "    def logistic_fn(x: float):\n",
    "        return r * x * (1 - x)\n",
    "    return logistic_fn\n",
    "\n",
    "\n",
    "def iterate(initial_state: float, iterations: int, map_fn: Callable) -> List[float]:\n",
    "    current_state = initial_state\n",
    "    states = list()\n",
    "    for _ in range(iterations):\n",
    "        current_state = map_fn(current_state)\n",
    "        states.append(current_state)\n",
    "    return states"
   ]
  },
  {
   "cell_type": "code",
   "execution_count": 2,
   "metadata": {},
   "outputs": [
    {
     "data": {
      "text/plain": [
       "[0.625, 0.5859375, 0.606536865234375, 0.5966247408650815]"
      ]
     },
     "execution_count": 2,
     "metadata": {},
     "output_type": "execute_result"
    }
   ],
   "source": [
    "iterate(\n",
    "    initial_state=0.5, \n",
    "    iterations=3, \n",
    "    map_fn=logistic_wrapper(r=2.5)\n",
    ")"
   ]
  },
  {
   "cell_type": "code",
   "execution_count": 12,
   "metadata": {},
   "outputs": [
    {
     "data": {
      "text/plain": [
       "[0.2,\n",
       " 0.41600000000000004,\n",
       " 0.6316544000000001,\n",
       " 0.604934509297664,\n",
       " 0.621370746771992,\n",
       " 0.6116997687528234,\n",
       " 0.617560220317471,\n",
       " 0.6140669459571599,\n",
       " 0.6161707027840165,\n",
       " 0.614911356318136,\n",
       " 0.6156679884917287]"
      ]
     },
     "execution_count": 12,
     "metadata": {},
     "output_type": "execute_result"
    }
   ],
   "source": [
    "iterate(\n",
    "    initial_state=0.2, \n",
    "    iterations=10, \n",
    "    map_fn=logistic_wrapper(r=2.6)\n",
    ")"
   ]
  },
  {
   "cell_type": "code",
   "execution_count": null,
   "metadata": {},
   "outputs": [],
   "source": []
  }
 ],
 "metadata": {
  "kernelspec": {
   "display_name": "Python 3",
   "language": "python",
   "name": "python3"
  },
  "language_info": {
   "codemirror_mode": {
    "name": "ipython",
    "version": 3
   },
   "file_extension": ".py",
   "mimetype": "text/x-python",
   "name": "python",
   "nbconvert_exporter": "python",
   "pygments_lexer": "ipython3",
   "version": "3.7.4"
  }
 },
 "nbformat": 4,
 "nbformat_minor": 2
}
